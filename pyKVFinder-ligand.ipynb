{
 "cells": [
  {
   "cell_type": "code",
   "execution_count": 1,
   "metadata": {},
   "outputs": [
    {
     "data": {
      "application/vnd.jupyter.widget-view+json": {
       "model_id": "0a6503a3603d4cdda301df2be583017a",
       "version_major": 2,
       "version_minor": 0
      },
      "text/plain": []
     },
     "metadata": {},
     "output_type": "display_data"
    }
   ],
   "source": [
    "# Import required modules\n",
    "import os\n",
    "import toml\n",
    "import zipfile\n",
    "import numpy\n",
    "import matplotlib as mpl\n",
    "import matplotlib.pyplot as plt\n",
    "import pandas as pd\n",
    "import pyKVFinder\n",
    "import nglview"
   ]
  },
  {
   "cell_type": "code",
   "execution_count": 62,
   "metadata": {},
   "outputs": [],
   "source": [
    "pdb = \"/home/projects/petero/fpocket/6kqi.pdb\"\n",
    "fn = 'box.toml'\n",
    "ligand = '/home/projects/petero/fpocket/NAM.pdb'"
   ]
  },
  {
   "cell_type": "code",
   "execution_count": 63,
   "metadata": {},
   "outputs": [],
   "source": [
    "results = pyKVFinder.run_workflow(pdb, ligand='/home/projects/petero/fpocket/NAM.pdb', ligand_cutoff=10.0)"
   ]
  },
  {
   "cell_type": "code",
   "execution_count": 64,
   "metadata": {},
   "outputs": [
    {
     "data": {
      "text/plain": [
       "{'KAA': [['151', 'A', 'PRO'],\n",
       "  ['152', 'A', 'SER'],\n",
       "  ['154', 'A', 'HIS'],\n",
       "  ['155', 'A', 'PHE'],\n",
       "  ['209', 'A', 'LEU'],\n",
       "  ['210', 'A', 'ALA'],\n",
       "  ['213', 'A', 'ASP'],\n",
       "  ['228', 'A', 'VAL'],\n",
       "  ['232', 'A', 'LYS'],\n",
       "  ['233', 'A', 'ALA'],\n",
       "  ['236', 'A', 'ALA'],\n",
       "  ['237', 'A', 'PHE']],\n",
       " 'KAB': [['201', 'A', 'THR'],\n",
       "  ['202', 'A', 'ALA'],\n",
       "  ['240', 'A', 'MET'],\n",
       "  ['243', 'A', 'ILE'],\n",
       "  ['244', 'A', 'ALA']],\n",
       " 'KAC': [['194', 'A', 'GLY'],\n",
       "  ['195', 'A', 'GLY'],\n",
       "  ['198', 'A', 'ALA'],\n",
       "  ['245', 'A', 'ILE'],\n",
       "  ['248', 'A', 'ALA'],\n",
       "  ['249', 'A', 'VAL']],\n",
       " 'KAD': [['161', 'A', 'VAL'],\n",
       "  ['162', 'A', 'ALA'],\n",
       "  ['165', 'A', 'LEU'],\n",
       "  ['166', 'A', 'GLY'],\n",
       "  ['199', 'A', 'SER'],\n",
       "  ['241', 'A', 'TRP']]}"
      ]
     },
     "execution_count": 64,
     "metadata": {},
     "output_type": "execute_result"
    }
   ],
   "source": [
    "results.residues"
   ]
  },
  {
   "cell_type": "code",
   "execution_count": 65,
   "metadata": {},
   "outputs": [
    {
     "data": {
      "text/plain": [
       "{'KAA': 59.18, 'KAB': 5.4, 'KAC': 6.48, 'KAD': 6.05}"
      ]
     },
     "execution_count": 65,
     "metadata": {},
     "output_type": "execute_result"
    }
   ],
   "source": [
    "results.volume"
   ]
  },
  {
   "cell_type": "code",
   "execution_count": 66,
   "metadata": {},
   "outputs": [],
   "source": [
    "results.export_all(fn='results.toml', output='cavity.pdb', include_frequencies_pdf=True, pdf='barplots.pdf')"
   ]
  },
  {
   "cell_type": "code",
   "execution_count": 67,
   "metadata": {},
   "outputs": [
    {
     "data": {
      "application/vnd.jupyter.widget-view+json": {
       "model_id": "9543bf28ade44af6be0d93c7ea2ad9a7",
       "version_major": 2,
       "version_minor": 0
      },
      "text/plain": [
       "NGLWidget()"
      ]
     },
     "metadata": {},
     "output_type": "display_data"
    }
   ],
   "source": [
    "tag = 'KAA'\n",
    "\n",
    "# Create NGL Viewer widget\n",
    "view = nglview.NGLWidget()\n",
    "\n",
    "# Add protein\n",
    "p1 = view.add_component(pdb)\n",
    "p1.clear()\n",
    "p1.add_cartoon(color='grey')\n",
    "\n",
    "# Select interface residues\n",
    "selection = f\"{' or '.join([f'({sel[0]} and :{sel[1]})' for sel in results.residues[tag]])}\"\n",
    "\n",
    "# Add interface residues\n",
    "p1.add_licorice(color='red', selection=selection)\n",
    "\n",
    "# Add cavities\n",
    "p2 = view.add_component('cavity.pdb')\n",
    "p2.clear()\n",
    "p2.add_surface(color='white', opacity=0.5, surfaceType='vws', probeRadius=0.3)\n",
    "\n",
    "# Show\n",
    "view"
   ]
  },
  {
   "cell_type": "code",
   "execution_count": null,
   "metadata": {},
   "outputs": [],
   "source": []
  }
 ],
 "metadata": {
  "kernelspec": {
   "display_name": "Python 3",
   "language": "python",
   "name": "python3"
  },
  "language_info": {
   "codemirror_mode": {
    "name": "ipython",
    "version": 3
   },
   "file_extension": ".py",
   "mimetype": "text/x-python",
   "name": "python",
   "nbconvert_exporter": "python",
   "pygments_lexer": "ipython3",
   "version": "3.7.4"
  }
 },
 "nbformat": 4,
 "nbformat_minor": 2
}
