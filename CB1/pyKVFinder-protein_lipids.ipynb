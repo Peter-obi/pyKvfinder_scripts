{
 "cells": [
  {
   "cell_type": "code",
   "execution_count": 1,
   "metadata": {},
   "outputs": [
    {
     "data": {
      "application/vnd.jupyter.widget-view+json": {
       "model_id": "278d671d5c3148b885b04cb439dc6327",
       "version_major": 2,
       "version_minor": 0
      },
      "text/plain": []
     },
     "metadata": {},
     "output_type": "display_data"
    }
   ],
   "source": [
    "# Import required modules\n",
    "import os\n",
    "import toml\n",
    "import zipfile\n",
    "import numpy\n",
    "import matplotlib as mpl\n",
    "import matplotlib.pyplot as plt\n",
    "import pandas as pd\n",
    "import pyKVFinder\n",
    "import nglview"
   ]
  },
  {
   "cell_type": "code",
   "execution_count": 51,
   "metadata": {},
   "outputs": [],
   "source": [
    "pdb = \"/home/projects/petero/fpocket/prot_lipids.pdb\"\n",
    "fn = 'box.toml'"
   ]
  },
  {
   "cell_type": "code",
   "execution_count": 50,
   "metadata": {},
   "outputs": [],
   "source": [
    "# Define a common custom box using parKVFinder PyMOL plugin\n",
    "box = {\n",
    "    'box': {'residues': [['142', 'P', 'TRP'], ['55', 'P', 'HIS'], ['59', 'P', 'SER'], ['58', 'P', 'GLY'], ['139', 'P', 'CYS'],\n",
    "                         ['146', 'P', 'ILE'], ['143', 'A', 'THR'], ['7', 'M', 'CHL1'], ['150', 'M', 'CHL1'], ['45', 'M', 'POPS'],['46', 'M', 'POPC'],\n",
    "                         ['49', 'M', 'PSM']\n",
    "                        ], 'padding': 0.0}}\n",
    "\n",
    "# Write common custom box to file\n",
    "with open('box.toml', 'w') as f:\n",
    "    toml.dump(box, f)"
   ]
  },
  {
   "cell_type": "code",
   "execution_count": 31,
   "metadata": {},
   "outputs": [],
   "source": [
    "# Define a common custom box using parKVFinder PyMOL plugin\n",
    "box = {\n",
    "    'box': {'residues': [['241', 'P', 'TRP'], ['154', 'P', 'HIS'], ['158', 'P', 'SER'], ['157', 'P', 'GLY'], ['238', 'P', 'CYS'],\n",
    "                          ['242', 'P', 'THR'], ['7', 'M', 'CHL1'], ['150', 'M', 'CHL1'], ['45', 'M', 'POPS'],['46', 'M', 'POPC'],\n",
    "                         ['49', 'M', 'PSM']\n",
    "                        ], 'padding': 0.0}}\n",
    "\n",
    "# Write common custom box to file\n",
    "with open('box.toml', 'w') as f:\n",
    "    toml.dump(box, f)"
   ]
  },
  {
   "cell_type": "code",
   "execution_count": 68,
   "metadata": {
    "scrolled": true
   },
   "outputs": [],
   "source": [
    "results = pyKVFinder.run_workflow(pdb, box=fn, include_depth=True, include_hydropathy=True, hydrophobicity_scale='EisenbergWeiss')"
   ]
  },
  {
   "cell_type": "code",
   "execution_count": 69,
   "metadata": {},
   "outputs": [
    {
     "data": {
      "text/plain": [
       "6"
      ]
     },
     "execution_count": 69,
     "metadata": {},
     "output_type": "execute_result"
    }
   ],
   "source": [
    "results.ncav"
   ]
  },
  {
   "cell_type": "code",
   "execution_count": 70,
   "metadata": {},
   "outputs": [
    {
     "data": {
      "text/plain": [
       "{'KAA': 108.86,\n",
       " 'KAB': 31.75,\n",
       " 'KAC': 19.87,\n",
       " 'KAD': 474.34,\n",
       " 'KAE': 48.6,\n",
       " 'KAF': 9.94}"
      ]
     },
     "execution_count": 70,
     "metadata": {},
     "output_type": "execute_result"
    }
   ],
   "source": [
    "results.volume"
   ]
  },
  {
   "cell_type": "code",
   "execution_count": 71,
   "metadata": {},
   "outputs": [
    {
     "data": {
      "text/plain": [
       "{'KAA': 119.98,\n",
       " 'KAB': 28.63,\n",
       " 'KAC': 32.81,\n",
       " 'KAD': 406.5,\n",
       " 'KAE': 49.85,\n",
       " 'KAF': 18.32}"
      ]
     },
     "execution_count": 71,
     "metadata": {},
     "output_type": "execute_result"
    }
   ],
   "source": [
    "results.area"
   ]
  },
  {
   "cell_type": "code",
   "execution_count": 72,
   "metadata": {},
   "outputs": [
    {
     "data": {
      "text/plain": [
       "{'KAA': 1.37, 'KAB': 0.29, 'KAC': 0.83, 'KAD': 2.5, 'KAE': 0.75, 'KAF': 0.28}"
      ]
     },
     "execution_count": 72,
     "metadata": {},
     "output_type": "execute_result"
    }
   ],
   "source": [
    "results.avg_depth"
   ]
  },
  {
   "cell_type": "code",
   "execution_count": 73,
   "metadata": {},
   "outputs": [
    {
     "data": {
      "text/plain": [
       "{'KAA': 3.65, 'KAB': 1.34, 'KAC': 1.99, 'KAD': 6.71, 'KAE': 2.4, 'KAF': 1.2}"
      ]
     },
     "execution_count": 73,
     "metadata": {},
     "output_type": "execute_result"
    }
   ],
   "source": [
    "results.max_depth"
   ]
  },
  {
   "cell_type": "code",
   "execution_count": 74,
   "metadata": {},
   "outputs": [
    {
     "data": {
      "text/plain": [
       "{'KAA': -0.39,\n",
       " 'KAB': 0.07,\n",
       " 'KAC': 0.28,\n",
       " 'KAD': -0.05,\n",
       " 'KAE': -0.71,\n",
       " 'KAF': 1.4,\n",
       " 'EisenbergWeiss': [-1.42, 2.6]}"
      ]
     },
     "execution_count": 74,
     "metadata": {},
     "output_type": "execute_result"
    }
   ],
   "source": [
    "results.avg_hydropathy"
   ]
  },
  {
   "cell_type": "code",
   "execution_count": 75,
   "metadata": {},
   "outputs": [
    {
     "data": {
      "text/plain": [
       "{'KAA': [['52', 'P', 'PRO'],\n",
       "  ['53', 'P', 'SER'],\n",
       "  ['55', 'P', 'HSE'],\n",
       "  ['56', 'P', 'PHE'],\n",
       "  ['59', 'P', 'SER'],\n",
       "  ['107', 'P', 'SER'],\n",
       "  ['110', 'P', 'LEU'],\n",
       "  ['111', 'P', 'THR'],\n",
       "  ['114', 'P', 'ASP'],\n",
       "  ['134', 'P', 'ALA'],\n",
       "  ['137', 'P', 'ALA'],\n",
       "  ['138', 'P', 'PHE'],\n",
       "  ['242', 'P', 'LEU']],\n",
       " 'KAB': [['51', 'P', 'ARG'],\n",
       "  ['52', 'P', 'PRO'],\n",
       "  ['53', 'P', 'SER'],\n",
       "  ['115', 'P', 'ARG'],\n",
       "  ['125', 'P', 'TYR'],\n",
       "  ['126', 'P', 'LYS'],\n",
       "  ['242', 'P', 'LEU']],\n",
       " 'KAC': [['50', 'P', 'CYS'],\n",
       "  ['52', 'P', 'PRO'],\n",
       "  ['126', 'P', 'LYS'],\n",
       "  ['129', 'P', 'VAL'],\n",
       "  ['130', 'P', 'THR'],\n",
       "  ['131', 'P', 'ARG'],\n",
       "  ['134', 'P', 'ALA']],\n",
       " 'KAD': [['39', 'P', 'LEU'],\n",
       "  ['42', 'P', 'ILE'],\n",
       "  ['43', 'P', 'LEU'],\n",
       "  ['49', 'P', 'ARG'],\n",
       "  ['54', 'P', 'TYR'],\n",
       "  ['55', 'P', 'HSE'],\n",
       "  ['58', 'P', 'GLY'],\n",
       "  ['59', 'P', 'SER'],\n",
       "  ['61', 'P', 'ALA'],\n",
       "  ['62', 'P', 'VAL'],\n",
       "  ['66', 'P', 'LEU'],\n",
       "  ['129', 'P', 'VAL'],\n",
       "  ['130', 'P', 'THR'],\n",
       "  ['131', 'P', 'ARG'],\n",
       "  ['135', 'P', 'VAL'],\n",
       "  ['138', 'P', 'PHE'],\n",
       "  ['139', 'P', 'CYS'],\n",
       "  ['142', 'P', 'TRP'],\n",
       "  ['143', 'P', 'THR'],\n",
       "  ['7', 'M', 'CHL'],\n",
       "  ['150', 'M', 'CHL'],\n",
       "  ['45', 'M', 'POP'],\n",
       "  ['49', 'M', 'PSM']],\n",
       " 'KAE': [['66', 'P', 'LEU'],\n",
       "  ['70', 'P', 'ILE'],\n",
       "  ['96', 'P', 'GLY'],\n",
       "  ['142', 'P', 'TRP'],\n",
       "  ['146', 'P', 'ILE'],\n",
       "  ['7', 'M', 'CHL']],\n",
       " 'KAF': [['131', 'P', 'ARG'], ['132', 'P', 'PRO'], ['49', 'M', 'PSM']]}"
      ]
     },
     "execution_count": 75,
     "metadata": {},
     "output_type": "execute_result"
    }
   ],
   "source": [
    "results.residues"
   ]
  },
  {
   "cell_type": "code",
   "execution_count": 76,
   "metadata": {},
   "outputs": [
    {
     "data": {
      "text/plain": [
       "{'KAA': {'RESIDUES': {'ALA': 2,\n",
       "   'ASP': 1,\n",
       "   'HSE': 1,\n",
       "   'LEU': 2,\n",
       "   'PHE': 2,\n",
       "   'PRO': 1,\n",
       "   'SER': 3,\n",
       "   'THR': 1},\n",
       "  'CLASS': {'R1': 5, 'R2': 2, 'R3': 4, 'R4': 1, 'R5': 0, 'RX': 1}},\n",
       " 'KAB': {'RESIDUES': {'ARG': 2,\n",
       "   'LEU': 1,\n",
       "   'LYS': 1,\n",
       "   'PRO': 1,\n",
       "   'SER': 1,\n",
       "   'TYR': 1},\n",
       "  'CLASS': {'R1': 2, 'R2': 1, 'R3': 1, 'R4': 0, 'R5': 3, 'RX': 0}},\n",
       " 'KAC': {'RESIDUES': {'ALA': 1,\n",
       "   'ARG': 1,\n",
       "   'CYS': 1,\n",
       "   'LYS': 1,\n",
       "   'PRO': 1,\n",
       "   'THR': 1,\n",
       "   'VAL': 1},\n",
       "  'CLASS': {'R1': 3, 'R2': 0, 'R3': 2, 'R4': 0, 'R5': 2, 'RX': 0}},\n",
       " 'KAD': {'RESIDUES': {'ALA': 1,\n",
       "   'ARG': 2,\n",
       "   'CHL': 2,\n",
       "   'CYS': 1,\n",
       "   'GLY': 1,\n",
       "   'HSE': 1,\n",
       "   'ILE': 1,\n",
       "   'LEU': 3,\n",
       "   'PHE': 1,\n",
       "   'POP': 1,\n",
       "   'PSM': 1,\n",
       "   'SER': 1,\n",
       "   'THR': 2,\n",
       "   'TRP': 1,\n",
       "   'TYR': 1,\n",
       "   'VAL': 3},\n",
       "  'CLASS': {'R1': 9, 'R2': 3, 'R3': 4, 'R4': 0, 'R5': 2, 'RX': 5}},\n",
       " 'KAE': {'RESIDUES': {'CHL': 1, 'GLY': 1, 'ILE': 2, 'LEU': 1, 'TRP': 1},\n",
       "  'CLASS': {'R1': 4, 'R2': 1, 'R3': 0, 'R4': 0, 'R5': 0, 'RX': 1}},\n",
       " 'KAF': {'RESIDUES': {'ARG': 1, 'PRO': 1, 'PSM': 1},\n",
       "  'CLASS': {'R1': 1, 'R2': 0, 'R3': 0, 'R4': 0, 'R5': 1, 'RX': 1}}}"
      ]
     },
     "execution_count": 76,
     "metadata": {},
     "output_type": "execute_result"
    }
   ],
   "source": [
    "results.frequencies"
   ]
  },
  {
   "cell_type": "code",
   "execution_count": 58,
   "metadata": {},
   "outputs": [],
   "source": [
    "results.export_all(fn='results.toml', output='cavity.pdb', include_frequencies_pdf=True, pdf='barplots.pdf')"
   ]
  },
  {
   "cell_type": "code",
   "execution_count": 60,
   "metadata": {},
   "outputs": [
    {
     "data": {
      "application/vnd.jupyter.widget-view+json": {
       "model_id": "77c0699a060a483190446c838d22c17c",
       "version_major": 2,
       "version_minor": 0
      },
      "text/plain": [
       "NGLWidget()"
      ]
     },
     "metadata": {},
     "output_type": "display_data"
    }
   ],
   "source": [
    "tag = 'KAD'\n",
    "\n",
    "# Create NGL Viewer widget\n",
    "view = nglview.NGLWidget()\n",
    "\n",
    "# Add protein\n",
    "p1 = view.add_component(pdb)\n",
    "p1.clear()\n",
    "p1.add_cartoon(color='orange')\n",
    "\n",
    "# Select interface residues\n",
    "selection = f\"{' or '.join([f'({sel[0]} and :{sel[1]})' for sel in results.residues[tag]])}\"\n",
    "\n",
    "# Add interface residues\n",
    "p1.add_licorice(color='red', selection=selection)\n",
    "\n",
    "# Add cavities\n",
    "p2 = view.add_component('cavity.pdb')\n",
    "p2.clear()\n",
    "p2.add_surface(color='white', opacity=0.3, surfaceType='vws', probeRadius=0.3)\n",
    "\n",
    "# Show\n",
    "view"
   ]
  },
  {
   "cell_type": "code",
   "execution_count": null,
   "metadata": {},
   "outputs": [],
   "source": []
  }
 ],
 "metadata": {
  "kernelspec": {
   "display_name": "Python 3",
   "language": "python",
   "name": "python3"
  },
  "language_info": {
   "codemirror_mode": {
    "name": "ipython",
    "version": 3
   },
   "file_extension": ".py",
   "mimetype": "text/x-python",
   "name": "python",
   "nbconvert_exporter": "python",
   "pygments_lexer": "ipython3",
   "version": "3.7.4"
  }
 },
 "nbformat": 4,
 "nbformat_minor": 2
}
